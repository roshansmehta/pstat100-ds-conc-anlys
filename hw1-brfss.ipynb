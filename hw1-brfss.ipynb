{
 "cells": [
  {
   "cell_type": "markdown",
   "id": "9d2265ec-912b-4033-aee0-3e02fda215e3",
   "metadata": {},
   "source": [
    "# PSTAT 100 Homework 1"
   ]
  },
  {
   "cell_type": "code",
   "execution_count": 1,
   "id": "7df44dd7-e8ba-4005-a1d2-3896e5146c5e",
   "metadata": {},
   "outputs": [],
   "source": [
    "import numpy as np\n",
    "import pandas as pd\n",
    "import altair as alt\n",
    "import warnings\n",
    "warnings.simplefilter(action='ignore', category=FutureWarning)"
   ]
  },
  {
   "cell_type": "markdown",
   "id": "bc8e6309-cd10-4555-a675-a596c855bb2f",
   "metadata": {},
   "source": [
    "## Background \n",
    "\n",
    "The [Behavioral Risk Factor Surveillance System](https://www.cdc.gov/brfss/index.html) (BRFSS) is a long-term effort administered by the CDC to collect data on behaviors affecting physical and mental health, past and present health conditions, and access to healthcare among U.S. residents. The BRFSS comprises telephone surveys of U.S. residents conducted annually since 1984; in the last decade, over half a million interviews have been conducted each year. This is the largest such data collection effort in the world, and many countries have developed similar programs. The objective of the program is to support monitoring and analysis of factors influencing public health in the United States.\n",
    "\n",
    "Each year, a standard survey questionnaire is developed that includes a core component comprising questions about: demographic and household information; health-related perceptions, conditions, and behaviors; substance use; and diet. Trained interviewers in each state call randomly selected telephone (landline and cell) numbers and administer the questionnaire; the phone numbers are chosen so as to obtain a representative sample of all households with telephone numbers.\n",
    "\n",
    "The raw BRFSS survey data is submitted to the CDC for processing and compilation into a single dataset. In the process, a number of 'derived variables' are calculated based on questionnaire responses and appended to the dataset -- a simple example is weight in kg, derived from respondents' weights reported in pounds. \n",
    "\n",
    "Take a moment to [read about the 2019 survey here](https://www.cdc.gov/brfss/annual_data/annual_2019.html) (follow the link!) and familiarize yourself with the information that is publicly available. This includes data and documentation pertaining to sampling methodology, questionnaires, variable coding, derived variables, and response rates."
   ]
  },
  {
   "cell_type": "markdown",
   "id": "399f5acc-18ff-4107-9d62-eb04d840db82",
   "metadata": {},
   "source": [
    "## Assignment objectives\n",
    "\n",
    "In this assignment you'll import and subsample the BRFSS 2019 data and perform a simple descriptive analysis exploring association between adverse childhood experiences, health perceptions, tobacco use, and depressive disorders. This is an opportunity to practice critical thinking about data collection, computational skills, and communicating results clearly and correctly.\n",
    "\n",
    "**Critical thinking about data collection.** You'll examine the BRFSS data documentation and practice:\n",
    "* identifying sampled units, variables measured, and the sampling frame;\n",
    "* assessing study design, data integrity, and scope of inference.\n",
    "\n",
    "**Computation.** You'll put into practice your data manipulation skills to tidy up the dataset:\n",
    "* data import;\n",
    "* slicing (selecting rows and columns);\n",
    "* index manipulation (renaming and rearranging);\n",
    "* value substitution for coded categorical variables (*e.g.*, 1 - 5 -> excellent - poor);\n",
    "* grouping and aggregation; and\n",
    "* visualization.\n",
    "\n",
    "**Communication.** Finally, you'll practice:\n",
    "* clear and concise description of data summaries and plots;\n",
    "* proper interpretation of estimates;\n",
    "* avoiding causual language when discussing observational data."
   ]
  },
  {
   "cell_type": "markdown",
   "id": "b519803c-9368-4d5d-8450-b501063313ed",
   "metadata": {
    "toc-hr-collapsed": true
   },
   "source": [
    "# 0. Data import and assessment\n",
    "\n",
    "In this part you'll import the 2019 BRFSS data from a compressed CSV file and perform some basic qualitative assessments:\n",
    "\n",
    "* examine the imported data;\n",
    "* check your understanding of the data format;\n",
    "* and investigate the data collection procedure. \n",
    "\n",
    "Think of these tasks as comprising the '**collect**' and '**acquaint**' steps of our PSTAT 100 lifecycle: gathering data and getting to know it.\n",
    "\n",
    "**Performing these basic checks and gaining background on how the data were generated are essential steps in any analysis**. You should make them standard practice in your work. Investigating the data collection procedure is especially important -- it is professionally irresponsible to analyze data without knowing where they came from, and collection protocols (known as a *sampling design*) can have strong implications for whether findings can be replicated and whether they might be biased.\n",
    "\n",
    "The cell below imports the select columns from the 2019 dataset as a pandas DataFrame. The file is big, so this may take a few moments. Run the cell, take a break to stretch, and then have a quick look at the first few rows and columns."
   ]
  },
  {
   "cell_type": "code",
   "execution_count": null,
   "id": "78ce649e-8714-4bd1-bb5f-e55f794ab611",
   "metadata": {},
   "outputs": [],
   "source": [
    "# store variable names of interest\n",
    "selected_vars = ['_SEX', '_AGEG5YR', \n",
    "                 'GENHLTH', 'ACEPRISN', \n",
    "                 'ACEDRUGS', 'ACEDRINK', \n",
    "                 'ACEDEPRS', 'ADDEPEV3', \n",
    "                 '_SMOKER3', '_LLCPWT']\n",
    "\n",
    "# import full 2019 BRFSS dataset (as a pandas DataFrame)\n",
    "brfss = pd.read_csv('data/brfss.csv', usecols = selected_vars)\n",
    "\n",
    "# print first few rows\n",
    "brfss.head()"
   ]
  },
  {
   "cell_type": "markdown",
   "id": "386788f9-ad78-47e3-9a59-a39b1183c564",
   "metadata": {
    "tags": []
   },
   "source": [
    "### Q0 (a). Dimensions\n",
    "\n",
    "Check the dimensions of the dataset. Set `rows` and `columns` to the respective dimensions.\n"
   ]
  },
  {
   "cell_type": "code",
   "execution_count": null,
   "id": "608a6fb1-85b6-4f3e-bce4-0891ec2ef6c4",
   "metadata": {},
   "outputs": [],
   "source": [
    "rows, columns = brfss.shape\n",
    "\n",
    "print(rows, columns)"
   ]
  },
  {
   "cell_type": "markdown",
   "id": "b9ce7e44-8a85-4ea3-8fae-1831235061a1",
   "metadata": {},
   "source": [
    "### Q0 (b). Row and column information\n",
    "\n",
    "Now that you've imported the data, you should verify that the dimensions conform to the format you expect based on data documentation and ensure you understand what each row and each column represents. This is an essential step in any analysis -- one can't conduct a useful analysis without properly understanding the entries in a dataset.\n",
    "\n",
    "Check the number of records (interviews conducted) reported and variables measured for 2019 by reviewing the [surveillance summaries by year](https://www.cdc.gov/brfss/annual_data/all_years/states_data.htm) (follow the link!), and then answer the following questions.\n",
    "\n",
    "* Does the number of rows match the number of reported records? \n",
    "* How many columns were imported, and how many columns are reported in the full dataset? \n",
    "* What does each row in the `brfss` dataframe represent?\n",
    "* What does each column in the `brfss` dataframe represent"
   ]
  },
  {
   "cell_type": "markdown",
   "id": "8492e93b-dcf2-499d-a91d-f304c2065515",
   "metadata": {},
   "source": [
    "1. Yes, the number of rows (418268) matches the number of reported records from the website for 2019 dataset.\n",
    "2. We imported 10 different columns, but there are a total of 342 columns reported in the full dataset. \n",
    "3. Each row in the `brfss` dataframe represents each respondent that data was gathered from and included in the study. \n",
    "4. Each column in the `brffs` dataframe represents a different calculated variable that comes from each respondent.  "
   ]
  },
  {
   "cell_type": "markdown",
   "id": "7950909d-8df0-448b-bf56-b1629c1d4de0",
   "metadata": {},
   "source": [
    "### Q0 (c). Sampling design and data collection\n",
    "\n",
    "**It is essential to devote effort to understanding how data were obtained before taking any further steps, no matter how basic those steps might be.** Without adequate background, it is easy to miss potential complications affecting how an analyst should engage with a project. To name a few examples: \n",
    "\n",
    "* convenience or haphazard sampling (*e.g.*, surveying my neighbors) could entail that patterns in the data are non-generalizable, as they may be difficult or impossible to replicate if the data are collected anew;\n",
    "* there may be sources of bias inherent in measurements (*e.g.*, failing to properly calibrate lab equipment) that could produce misleading results;\n",
    "* ethical issues (*e.g.*, data from animal experiments, conflicts of interest, sensitive user information, etc.) may require withdrawal from a project for personal reasons or demand extra caution to protect subject privacy.\n",
    "\n",
    "These matters are never evident from data itself, and require critical qualitative assessment of data collection procedures.\n",
    "\n",
    "Skim the [overview documentation](https://www.cdc.gov/brfss/annual_data/2019/pdf/overview-2019-508.pdf) for the 2019 BRFSS data. Focus specifically the 'Background' and 'Data Collection' sections, and read between the technical information (don't worry if you don't understand everything in the documentation -- you're not expected to!), and answer the following questions."
   ]
  },
  {
   "cell_type": "markdown",
   "id": "939adcf9-dc8a-45c9-95b1-0eb6a7d53c8a",
   "metadata": {},
   "source": [
    "<!-- BEGIN QUESTION -->\n",
    "\n",
    "#### i. Who does an interviewer speak to in each household?"
   ]
  },
  {
   "cell_type": "markdown",
   "id": "a55b3bca-35a7-488d-9906-6c60ebc79219",
   "metadata": {},
   "source": [
    "In cell phone surveys, the interviewer speaks to the adult answering the phone from a private residence or college housing. In landline phone calls, the interviewer speaks to a randomly selected adult in the household. "
   ]
  },
  {
   "cell_type": "markdown",
   "id": "5b00b345-396b-4c5b-9f1c-56fa32dd7215",
   "metadata": {},
   "source": [
    "<!-- END QUESTION -->\n",
    "\n",
    "<!-- BEGIN QUESTION -->\n",
    "\n",
    "#### ii. What criteria must a person meet to be interviewed?"
   ]
  },
  {
   "cell_type": "markdown",
   "id": "8bf01d0b-3378-4860-98af-226b738897a6",
   "metadata": {},
   "source": [
    "In order to be interviewed, the person must be in the United States, have had access to a phone so that they could answer the questions, and be at least 18 years old. "
   ]
  },
  {
   "cell_type": "markdown",
   "id": "200333f2-2c4d-4022-a118-dadb37e92034",
   "metadata": {},
   "source": [
    "<!-- END QUESTION -->\n",
    "\n",
    "<!-- BEGIN QUESTION -->\n",
    "\n",
    "#### iii. Who *can't* possibly appear in the survey? Give two examples."
   ]
  },
  {
   "cell_type": "markdown",
   "id": "58dfc0ba-4626-4603-a2a2-a5a709a6de2b",
   "metadata": {},
   "source": [
    "People who cannot possibly appear in the survey are those who do not live in the United States or its territories, those without access to a phone, either a cell phone or landline, those who are not yet adults, and also those who are institutionalized. "
   ]
  },
  {
   "cell_type": "markdown",
   "id": "42642efc-e9b7-467d-94cb-1f802c36b11f",
   "metadata": {},
   "source": [
    "<!-- END QUESTION -->\n",
    "\n",
    "<!-- BEGIN QUESTION -->\n",
    "\n",
    "#### iv. Who conducts the interviews and how long does the core portion of a typical interview last?"
   ]
  },
  {
   "cell_type": "markdown",
   "id": "adb09076-0f62-40fd-90bb-ef5c3baa90e3",
   "metadata": {},
   "source": [
    "The core portion of a typical interview lasts lasts for an average of 17 minutes, and these are conducted by people (contractors) who are specifically trained to conduct this interview for the BRFSS. They have experience conducting telephone surveys in the past, and have been taught additional procedures and techniques specific to this study. Sometimes, the interviews were conducted by the state health departments themselves. "
   ]
  },
  {
   "cell_type": "markdown",
   "id": "a012098c-4a9e-4f8d-8ecf-45291f691af0",
   "metadata": {},
   "source": [
    "<!-- END QUESTION -->\n",
    "\n",
    "<!-- BEGIN QUESTION -->\n",
    "\n",
    "#### v. How would you describe the study population (*i.e.*, all individuals who could possibly be sampled)?"
   ]
  },
  {
   "cell_type": "markdown",
   "id": "623bd330-2a6f-43d4-824d-2271e56169d0",
   "metadata": {},
   "source": [
    "The study population is any noninstitutionalized adult in the United States, or one of its territories, that also had access to some sort of phone to complete the survey living in a private residence or college housing."
   ]
  },
  {
   "cell_type": "markdown",
   "id": "1d2219cc-9c56-4017-b9fd-8ecd4d8b60b0",
   "metadata": {},
   "source": [
    "<!-- END QUESTION -->\n",
    "\n",
    "<!-- BEGIN QUESTION -->\n",
    "\n",
    "#### vi. Does the data contain any identifying information on respondents?"
   ]
  },
  {
   "cell_type": "markdown",
   "id": "008db1d2-347b-42d9-b2e9-1f94a24be040",
   "metadata": {},
   "source": [
    "No, the data does not contain any identifying information on the respondents. "
   ]
  },
  {
   "cell_type": "markdown",
   "id": "72968796-6de2-43a7-acb4-b6b294954ad8",
   "metadata": {},
   "source": [
    "<!-- END QUESTION -->\n",
    "\n",
    "Now that you have a good understanding of how the data are formatted and how they were collected, you can start engaging with the dataset in an informed way. \n",
    "\n",
    "For this assignment, you'll work with just a few of the 300+ variables: sex, age, general health self-assessment, smoking status, depressive disorder, and adverse childhood experiences (ACEs). The names of these variables as they appear in the raw dataset are stored in the cell in which you imported the data."
   ]
  },
  {
   "cell_type": "markdown",
   "id": "d47acca2-e8ac-4b5d-b6f9-7c2122ee1574",
   "metadata": {},
   "source": [
    "<!-- BEGIN QUESTION -->\n",
    "​\n",
    "### Q0 (d) -- variable descriptions\n",
    "​\n",
    "With a narrowed set of variables to focus on, a final step in gathering background understanding is to determine clearly the meaning of each variable and how its measurements are recorded in the dataset (*e.g.*, text, numeric/continuous, numeric/categorical, logical, etc.). **This is yet another essential step in any analysis**. It is often useful, and therefore good practice, to include a brief description of each variable at the outset of any reported analyses, both for your own clarity and for that of any potential readers.\n",
    "​\n",
    " Open the [2019 BRFSS codebook](https://www.cdc.gov/brfss/annual_data/2019/pdf/codebook19_llcp-v2-508.HTML) in your browser and use text searching to locate each of the variable names of interest. Read the codebook entries and fill in the second column in the table below with a one-sentence description of each variable identified in `selected_vars`. "
   ]
  },
  {
   "cell_type": "markdown",
   "id": "9416bde3-9ec8-4ad1-beff-8475ef718e83",
   "metadata": {},
   "source": [
    "Variable name | Description \n",
    "--------------|--------------\n",
    "`GENHLTH` | respondents view of their general your health\n",
    "`_SEX` | calculated sex variable of respondent\n",
    "`_AGEG5YR` | Fourteen-level age category of respondent\n",
    "`ACEPRISN` | did respondent live with anyone who served time or was sentenced to serve time in a prison, jail, or other correctional facility\n",
    "`ACEDRUGS` | did respondent live with anyone who used illegal street drugs or who abused prescription medications\n",
    "`ACEDRINK` | did respondent live with anyone who was a problem drinker or alcoholic\n",
    "`ACEDEPRS` | did respondent live with anyone who was depressed, mentally ill, or suicidal \n",
    "`ADDEPEV3` | does respondent have depressive disorder: Yes, No, Don’t know/Not Sure, Refused\n",
    "`_SMOKER3` | respondent smoking status: everyday smoker, someday smoker, former smoker, non-smoker, Don’t know/ Refused/ Missing"
   ]
  },
  {
   "cell_type": "markdown",
   "id": "9faf38ca-55f2-4333-9205-193511435b35",
   "metadata": {},
   "source": [
    "<!-- END QUESTION -->\n",
    "\n",
    "---\n",
    "\n",
    "# Subsampling\n",
    "\n",
    "To simplify life a little, we'll draw a large random sample of the rows and work with that in place of the full dataset. This is known as **subsampling**. The cell below draws a random subsample of 10k records. Because the subsample is randomly drawn, we should not expect it to vary in any systematic way from the overall dataset, and distinct subsamples should have similar properties -- therefore, results downstream should be similar to an analysis of the full dataset, and should also be possible to *replicate* using distinct subsamples.\n",
    "\n",
    "Notice that the random number generator seed is set before carrying out this task -- this ensures that every time the cell is run, the same subsample is drawn. As a result, the computations in this notebook are _reproducible_: when I run the notebook on my computer, I get the same results as you get when you run the notebook on your computer."
   ]
  },
  {
   "cell_type": "code",
   "execution_count": null,
   "id": "bf1dbc40-f62c-4659-ba58-e8f28b7baf0d",
   "metadata": {},
   "outputs": [],
   "source": [
    "# for reproducibility\n",
    "np.random.seed(32221) \n",
    "\n",
    "# randomly sample 10k records\n",
    "samp = brfss.sample(n = 10000, \n",
    "                    replace = False, \n",
    "                    weights = '_LLCPWT')\n",
    "\n",
    "samp"
   ]
  },
  {
   "cell_type": "markdown",
   "id": "25957d17-e5c7-4469-9696-0e4da942adff",
   "metadata": {},
   "source": [
    "**Aside.** Notice also that _sampling weights_ provided with the dataset are used to draw a weighted sample. Some respondents are more likely to be selected than others from the general population of U.S. adults with phone numbers, so the BRFSS calculates derived weights that represent the probability that the respondent is included in the survey. This is a somewhat sophisticated calculation, however if you're interested, you can read about how these weights are calculated and why in the overview documentation you used to answer the questions above. We use them in drawing the subsample so that we get a representative sample of U.S. adults with phone numbers."
   ]
  },
  {
   "cell_type": "markdown",
   "id": "a64697d3-aa08-4b71-a986-461b018b4fe8",
   "metadata": {},
   "source": [
    "---\n",
    "\n",
    "# 1. Data tidying -- slicing, recoding, renaming\n",
    "\n",
    "Here you'll **tidy** up the subsample, performing the following steps:\n",
    "\n",
    "* selecting columns of interest;\n",
    "* replacing coded values of question responses with responses;\n",
    "* defining new variables based on existing ones;\n",
    "* renaming columns.\n",
    "\n",
    "The objective of this section is to produce a clean version of the dataset that is well-organized, intuitive to navigate, and ready for analysis."
   ]
  },
  {
   "cell_type": "markdown",
   "id": "76940daf-b5a6-461a-a97b-40b53bac9ea3",
   "metadata": {},
   "source": [
    "### Q1 (a). Column selection\n",
    "\n",
    "Use `selected_vars` and slice `samp` to obtain the variables of interest and exclude the others using the `.loc` method. (See lab 1.) "
   ]
  },
  {
   "cell_type": "code",
   "execution_count": null,
   "id": "8975d560-6035-4565-a227-8459e507744a",
   "metadata": {},
   "outputs": [],
   "source": [
    "# slice columns of interest\n",
    "samp_mod1 = samp.loc[:,selected_vars]\n",
    "samp_mod1"
   ]
  },
  {
   "cell_type": "markdown",
   "id": "0db9af68-cbff-4926-a591-cbdb1089975d",
   "metadata": {},
   "source": [
    "Notice the missing values. How many entries are missing in each column? The cell below computes the proportion of missing values for each of the selected variables."
   ]
  },
  {
   "cell_type": "code",
   "execution_count": null,
   "id": "87746379-aeac-417d-ac60-2ca352945f49",
   "metadata": {},
   "outputs": [],
   "source": [
    "# proportions of missingness -- uncomment after resolving q1a\n",
    "samp_mod1.isna().mean()\n",
    "\n",
    "#samp_mod1.isna().sum()\n",
    "# in the column ACEPRISN, 7541.0 entries are missing\n",
    "# in the column ACEDRUGS, 7538.0 entries are missing\n",
    "# in the column ACEDRINK, 7537.0 entries are missing\n",
    "# in the column ACEDEPRS, 7531.0 entries are missing\n",
    "# in the column ADDEPEV3, 1.0 entry is missing\n",
    "# in the rest, there are no missing entries. "
   ]
  },
  {
   "cell_type": "markdown",
   "id": "b455a4af-3c2b-4c64-8e92-14f69c8275b0",
   "metadata": {},
   "source": [
    "## Recoding categorical variables\n",
    "\n",
    "Now notice that the variable entries are coded numerically to represent certain responses. These should be replaced by more informative entries. We can use the codebook to determine which number means what, and replace the values accordingly.\n",
    "\n",
    "The cell below replaces the numeric values for `_AGEG5YR` by their meanings, illustrating how to use `.replace()` with a dictionary to convert the numeric coding to interpretable values. The basic strategy is:\n",
    "\n",
    "1. Store the variable coding for `VAR` as a dictionary `var_codes`.\n",
    "2. Use `.replace({'VAR': var_codes})` to modify values.\n",
    "\n",
    "If you need additional examples, check the [pandas documentation](https://pandas.pydata.org/docs/reference/api/pandas.DataFrame.replace.html) for `.replace()`."
   ]
  },
  {
   "cell_type": "code",
   "execution_count": null,
   "id": "fa559df9-b1de-44fa-8605-cbb3bdbfad2f",
   "metadata": {},
   "outputs": [],
   "source": [
    "# dictionary representing variable coding\n",
    "age_codes = {\n",
    "    1: '18-24', 2: '25-29', 3: '30-34',\n",
    "    4: '35-39', 5: '40-44', 6: '45-49',\n",
    "    7: '50-54', 8: '55-59', 9: '60-64',\n",
    "    10: '65-69', 11: '70-74', 12: '75-79',\n",
    "    13: '80+', 14: 'Unsure/refused/missing'\n",
    "}\n",
    "\n",
    "# recode age categories\n",
    "samp_mod2 = samp_mod1.replace({'_AGEG5YR': age_codes})\n",
    "\n",
    "# check result\n",
    "samp_mod2.head()"
   ]
  },
  {
   "cell_type": "markdown",
   "id": "b4b7e362-4d5d-4c1d-bf47-22500e941b26",
   "metadata": {
    "toc-hr-collapsed": true
   },
   "source": [
    "### Q1 (b). Recoding variables\n",
    "\n",
    "Following the example immediately above and referring to the [2019 BRFSS codebook](https://www.cdc.gov/brfss/annual_data/2019/pdf/codebook19_llcp-v2-508.HTML), replace the numeric codings with response categories for each of the following variables:\n",
    "\n",
    "* `_SEX`\n",
    "* `GENHLTH`\n",
    "* `_SMOKER3`\n",
    "\n",
    "Notice that above, the first modification (slicing) was stored as `samp_mod1`, and was a function of `samp`; the second modification (recoding age) was stored as `samp_mod2` and was a function of `samp_mod1`. You'll follow this pattern so that each step of your data manipulations is stored separately, for easy troubleshooting."
   ]
  },
  {
   "cell_type": "markdown",
   "id": "64ec6868-7d61-402c-8794-0b2443ac4836",
   "metadata": {},
   "source": [
    "#### i. Recode `_SEX`\n",
    "\n",
    "Define a new dataframe `samp_mod3` that is the same as `samp_mod2` but with the `_SEX` variable recoded as `M` and `F`. Print the first few rows of the result using `.head()`."
   ]
  },
  {
   "cell_type": "code",
   "execution_count": null,
   "id": "6a36fb34-3929-443a-805d-8bfe1514f814",
   "metadata": {},
   "outputs": [],
   "source": [
    "# define dictionary\n",
    "sex_codes = {1: 'M', 2: 'F'}\n",
    "\n",
    "# recode\n",
    "samp_mod3 = samp_mod2.replace({'_SEX': sex_codes})\n",
    "\n",
    "# check using head()\n",
    "samp_mod3.head()"
   ]
  },
  {
   "cell_type": "markdown",
   "id": "631e257d-8cbf-4aff-8eb4-77eb0c9bdbf6",
   "metadata": {},
   "source": [
    "#### ii. Recode `GENHLTH`\n",
    "\n",
    "Define a new dataframe `samp_mod4` that is the same as `samp_mod3` but with the `GENHLTH` variable recoded as `Excellent`, `Very good`, `Good`, `Fair`, `Poor`, `Unsure`, and `Refused`. Print the first few rows of the result using `.head()`."
   ]
  },
  {
   "cell_type": "code",
   "execution_count": null,
   "id": "cebb5964-10b0-49f1-920e-b165bec40d15",
   "metadata": {},
   "outputs": [],
   "source": [
    "# define dictionary\n",
    "health_codes = {\n",
    "    1: 'Excellent', 2: 'Very good', 3: 'Good',\n",
    "    4: 'Fair', 5: 'Poor', 7: 'Don’t know/Not Sure', \n",
    "    9: 'Refused'}\n",
    "\n",
    "# recode\n",
    "samp_mod4 = samp_mod3.replace({'GENHLTH': health_codes})\n",
    "\n",
    "# check using head()\n",
    "samp_mod4.head()"
   ]
  },
  {
   "cell_type": "markdown",
   "id": "9fce2c6b-fc4c-4a98-bbea-0e0f4b61cf55",
   "metadata": {},
   "source": [
    "#### iii. Recode `_SMOKER3`\n",
    "\n",
    "Define a new dataframe `samp_mod5` that is the same as `samp_mod4` but with `_SMOKER3` recoded as `Daily`, `Some days`, `Former`, `Never`, and `Unsure/refused/missing`. Print the first few rows of the result using `.head()`."
   ]
  },
  {
   "cell_type": "code",
   "execution_count": null,
   "id": "2970acaf-394f-4c59-837b-3532116a3d98",
   "metadata": {},
   "outputs": [],
   "source": [
    "# dictionary\n",
    "smoke_codes = {\n",
    "    1: 'Everyday smoker', \n",
    "    2: 'Someday smoker', \n",
    "    3: 'Former smoker', \n",
    "    4: 'Non-smoker', \n",
    "    9: 'Unsure/refused/missing'\n",
    "}\n",
    "\n",
    "# recode\n",
    "samp_mod5 = samp_mod4.replace({'_SMOKER3': smoke_codes})\n",
    "\n",
    "# check using head()\n",
    "samp_mod5.head()"
   ]
  },
  {
   "cell_type": "markdown",
   "id": "db6b5f85-7e7b-4a32-8a42-a9618aec4313",
   "metadata": {},
   "source": [
    "### Q1 (c). Value replacement\n",
    "\n",
    "\n",
    "Now all the variables *except* the adverse childhood experience and depressive disorder question responses are non-numeric. Notice in the codebook that the answer key is identical for these remaining variables. \n",
    "\n",
    "The numeric codings can be replaced all at once by applying `.replace()` to the dataframe with an argument of the form \n",
    "\n",
    "* `df.replace({'var1': varcodes1, 'var2': varcodes1, ..., 'varp': varcodesp})` \n",
    "\n",
    "Define a new dataframe `samp_mod6` that is the same as `samp_mod5` but with the remaining variables recoded according to the answer key `Yes`, `No`, `Unsure`, `Refused`. Print the first few rows of the result using `.head()`.\n"
   ]
  },
  {
   "cell_type": "code",
   "execution_count": null,
   "id": "34127032-1d00-45c1-ae5c-7f34e119b6dc",
   "metadata": {},
   "outputs": [],
   "source": [
    "# define dictionary\n",
    "answer_key = {1: 'Yes', 2: 'No', 7: 'Unsure', 9: 'Refused'}\n",
    "\n",
    "# recode\n",
    "samp_mod6 = samp_mod5.replace({'ACEPRISN': answer_key, 'ACEDRUGS': answer_key, 'ACEDRINK': answer_key, \n",
    "                               'ACEDEPRS': answer_key, 'ADDEPEV3': answer_key})\n",
    "\n",
    "# check using head()\n",
    "samp_mod6.head()"
   ]
  },
  {
   "cell_type": "markdown",
   "id": "bec72dbb-b5ef-4259-9ac7-3e41ef1e5cce",
   "metadata": {},
   "source": [
    "Finally, all the variables in the dataset are categorical. Notice that the current data types do not reflect this."
   ]
  },
  {
   "cell_type": "code",
   "execution_count": null,
   "id": "c2c4f4b2-6bb0-468e-9515-8c6999666cb7",
   "metadata": {},
   "outputs": [],
   "source": [
    "samp_mod6.dtypes"
   ]
  },
  {
   "cell_type": "markdown",
   "id": "1d3ba10a-7aba-4bdf-a0d2-0f312d87514b",
   "metadata": {},
   "source": [
    "Let's coerce the variables to `category` data types using `.astype()`."
   ]
  },
  {
   "cell_type": "code",
   "execution_count": null,
   "id": "767bc067-a749-4445-9511-7c34cef9a913",
   "metadata": {},
   "outputs": [],
   "source": [
    "# coerce to categorical\n",
    "samp_mod7 = samp_mod6.astype('category')\n",
    "\n",
    "# check new data types\n",
    "samp_mod7.dtypes"
   ]
  },
  {
   "cell_type": "markdown",
   "id": "ee01789d-c71e-4d81-b162-1b71d2c0c883",
   "metadata": {},
   "source": [
    "### Q1 (d). Define ACE indicator variable\n",
    "\n",
    "Your objective will be to look for associations between adverse childhood experiences and the other variables by calculating the proportion of respondents who reported experiencing ACEs. This task will be facilitated by having an indicator variable that is a `1` if the respondent answered 'Yes' to any ACE question, and a `0` otherwise -- that way, you can easily count the number of respondents reporting ACEs by summing up the indicator.\n",
    "\n",
    "To this end, define a new logical variable:\n",
    "\n",
    "* `adverse_conditions`: did the respondent answer yes to any of the adverse childhood condition questions?\n",
    "\n",
    "You can accomplish this task in several steps:\n",
    "\n",
    "1. Obtain a logical array indicating the positions of the ACE variables (hint: use `.columns` to obtain the column index and operate on the result with `.str.startswith(...)`.). Store this as `ace_positions`.\n",
    "2. Use the logical array `ace_positions` to select the ACE columns via `.loc[]`. Store this as `ace_data`.\n",
    "3. Obtain a dataframe that indicates whether each entry is a 'Yes' (hint: use the boolean operator `==`, which is a vectorized operation). Store this as `ace_yes`.\n",
    "4. Compute the row sums using `.sum()`. Store this as `ace_numyes`.\n",
    "5. Define the new variable as `ace_numyes > 0`.\n",
    "\n",
    "Store the result as `samp_mod8`, and print the first few rows using `.head()`.\n"
   ]
  },
  {
   "cell_type": "code",
   "execution_count": null,
   "id": "1b5f7cdb-c3df-4df4-ac36-c6aec9fdbd1d",
   "metadata": {},
   "outputs": [],
   "source": [
    "# copy samp_mod7\n",
    "samp_mod8 = samp_mod7.copy()\n",
    "\n",
    "# ace column positions\n",
    "ace_positions = samp_mod8.columns.str.startswith('ACE')\n",
    "\n",
    "# ace data\n",
    "ace_data = samp_mod8.loc[:, ace_positions]\n",
    "\n",
    "# ace yes indicators\n",
    "ace_yes = ace_data == 'Yes'\n",
    "#ace_yes\n",
    "\n",
    "# number of yesses\n",
    "ace_numyes = ace_yes.sum(axis=1)\n",
    "#ace_numyes\n",
    "\n",
    "# assign new variable\n",
    "samp_mod8['adverse_conditions'] = ace_numyes > 0\n",
    "\n",
    "# check result using .head()\n",
    "samp_mod8.head()"
   ]
  },
  {
   "cell_type": "code",
   "execution_count": null,
   "id": "7da1b70b-e51d-4f3e-b2a9-6f3be126a559",
   "metadata": {},
   "outputs": [],
   "source": [
    "ace_data"
   ]
  },
  {
   "cell_type": "markdown",
   "id": "7e6f1cab-2705-4097-95df-addd822bae16",
   "metadata": {},
   "source": [
    "### Q1 (e). Define missingness indicator variable\n",
    "\n",
    "As you saw earlier, there are some missing values for the ACE questions. These arise whenever a respondent is not asked these questions. In fact, answers are missing for nearly 80% of the respondents in our subsample! We should keep track of this information. Define a missing indicator:\n",
    "\n",
    "* `adverse_missing`: is a response missing for at least one of the ACE questions?\n"
   ]
  },
  {
   "cell_type": "code",
   "execution_count": null,
   "id": "725a490b-8bb5-4fe6-9a99-e09e6133dfef",
   "metadata": {},
   "outputs": [],
   "source": [
    "# copy modification 8\n",
    "samp_mod9 = samp_mod8.copy()\n",
    "\n",
    "# define missing indicator using loc\n",
    "# (TA code help below)\n",
    "ace_missing = pd.isna(ace_data)\n",
    "ace_nummiss = ace_missing.sum(axis=1)\n",
    "\n",
    "# assign new variable\n",
    "samp_mod9['adverse_missing'] = ace_nummiss>0\n",
    "\n",
    "# check using head()\n",
    "samp_mod9.head()"
   ]
  },
  {
   "cell_type": "markdown",
   "id": "fec78588-3279-43ed-a623-c8158f0850cf",
   "metadata": {},
   "source": [
    "### Q1 (f). Filter respondents who did not answer ACE questions\n",
    "\n",
    "Since values are missing for the ACE question if a respondent was not asked, we can remove these observations and do any analysis *conditional on respondents answering the ACE questions*. Use your indicator variable `adverse_missing` to filter out respondents who were not asked the ACE questions.\n"
   ]
  },
  {
   "cell_type": "code",
   "execution_count": null,
   "id": "bb0bd957-cda1-4f1b-a9a5-fbf878e8df08",
   "metadata": {},
   "outputs": [],
   "source": [
    "# solution\n",
    "samp_mod10 = samp_mod9[~ samp_mod9.adverse_missing]\n",
    "samp_mod10.head()"
   ]
  },
  {
   "cell_type": "markdown",
   "id": "e0567047-f396-478d-bcb7-756ce2e84899",
   "metadata": {},
   "source": [
    "### Q1 (g). Define depression indicator variable\n",
    "\n",
    "It will prove similarly helpful to define an indicator for reported depression:\n",
    "\n",
    "* `depression`: did the respondent report having been diagnosed with a depressive disorder?\n",
    "\n",
    "Follow the same strategy as above, and store the result as `samp_mod11`. See if you can perform the calculation of the new variable in a single line of code. Print the first few rows using `.head()`.\n"
   ]
  },
  {
   "cell_type": "code",
   "execution_count": null,
   "id": "8c66b3a3-25ad-403e-8fd0-b4853c44e2a8",
   "metadata": {},
   "outputs": [],
   "source": [
    "# copy samp_mod10\n",
    "samp_mod11 = samp_mod10.copy()\n",
    "\n",
    "# define new variable using loc\n",
    "samp_mod11['depression'] = samp_mod11.loc[:, 'ADDEPEV3'] == 'Yes'\n",
    "\n",
    "# check using .head()\n",
    "samp_mod11.head()"
   ]
  },
  {
   "cell_type": "markdown",
   "id": "87d38abb-e26d-41bc-8de1-c1a6f89a6685",
   "metadata": {},
   "source": [
    "### Q1 (h). Final dataset.\n",
    "\n",
    "For the final dataset, drop the respondent answers to individual questions, the missingness indicator, and select just the derived indicator variables along with state, general health, sex, age, and smoking status. Check the [pandas documentation](https://pandas.pydata.org/pandas-docs/stable/reference/api/pandas.DataFrame.rename.html) for `.rename()` and follow the examples to rename the latter variables:\n",
    "\n",
    "* general_health\n",
    "* sex\n",
    "* age\n",
    "* smoking\n",
    "\n",
    "See if you can perform both operations (slicing and renaming) in a single chain."
   ]
  },
  {
   "cell_type": "code",
   "execution_count": null,
   "id": "0c473ca5-38dd-4db8-96f5-1894b462aac1",
   "metadata": {},
   "outputs": [],
   "source": [
    "# slice and rename\n",
    "data = samp_mod11.drop(columns = ['ACEPRISN','ACEDRUGS','ACEDRINK','ACEDEPRS','ADDEPEV3', '_LLCPWT','adverse_missing']\n",
    ").rename(\n",
    "    columns = {'_SEX': 'sex', '_AGEG5YR': 'age', 'GENHLTH': 'general_health', '_SMOKER3': 'smoking'})\n",
    "\n",
    "# check using .head()\n",
    "data.head()"
   ]
  },
  {
   "cell_type": "markdown",
   "id": "baa7ae23-2852-4b75-b17b-ea7b000064a9",
   "metadata": {},
   "source": [
    "---\n",
    "\n",
    "# 2. Descriptive analysis\n",
    "\n",
    "Now that you have a clean dataset, you'll use grouping and aggregation to compute several summary statistics that will help you **explore** and **analyze** whether there is an apparent association between experiencing adverse childhood conditions and self-reported health, smoking status, and depressive disorders. \n",
    "\n",
    "The basic strategy will be to calculate the proportions of respondents who answered yes to one of the adverse experience questions when respondents are grouped by the other variables."
   ]
  },
  {
   "cell_type": "markdown",
   "id": "c414aa88-1e2b-41e9-b222-b747bc5d3527",
   "metadata": {},
   "source": [
    "### Q2 (a). Proportion of respondents reporting ACEs\n",
    "\n",
    "Calculate the overall proportion of respondents in the subsample that reported experiencing at least one adverse condition (given that they answered the ACE questions). Use `.mean()`; store the result as `mean_ace` and print."
   ]
  },
  {
   "cell_type": "code",
   "execution_count": null,
   "id": "9e698974-930b-41a8-a4e4-9b8d9226ce06",
   "metadata": {},
   "outputs": [],
   "source": [
    "# proportion of respondents reporting at least one adverse condition\n",
    "mean_ace = data.adverse_conditions.mean()\n",
    "\n",
    "# print\n",
    "mean_ace"
   ]
  },
  {
   "cell_type": "markdown",
   "id": "2f9afb88-a539-4b1f-a1ee-57abc76c5712",
   "metadata": {},
   "source": [
    "*Does the proportion of respondents who reported experiencing adverse childhood conditions vary by general health?*\n",
    "\n",
    "The cell below computes the porportion separately by general health self-rating. Notice that the depression variable is dropped so that the result doesn't also report the proportion of respondents reporting having been diagnosed with a depressive disorder. Notice also that the proportion of missing values for respondents indicating each general health rating is shown."
   ]
  },
  {
   "cell_type": "code",
   "execution_count": null,
   "id": "a259b6c4-fdcd-44b4-beaa-295f9ed3b964",
   "metadata": {},
   "outputs": [],
   "source": [
    "# proportions grouped by general health\n",
    "data.drop(\n",
    "    columns = 'depression'\n",
    ").groupby(\n",
    "    'general_health'\n",
    ").mean()"
   ]
  },
  {
   "cell_type": "markdown",
   "id": "2b7352e7-a198-413c-b68d-21f69fc6a331",
   "metadata": {},
   "source": [
    "Notice that the row index lists the general health rating out of order. This can be fixed using a `.loc[]` call and the dictionary that was defined for the variable coding."
   ]
  },
  {
   "cell_type": "code",
   "execution_count": null,
   "id": "4bc5732d-f6e8-4c43-aa6f-137d2b8feff2",
   "metadata": {},
   "outputs": [],
   "source": [
    "# same as above, rearranging index\n",
    "ace_health = data.drop(\n",
    "    columns = 'depression'\n",
    ").groupby(\n",
    "    'general_health'\n",
    ").mean().loc[list(health_codes.values()), :]\n",
    "\n",
    "# print\n",
    "ace_health"
   ]
  },
  {
   "cell_type": "markdown",
   "id": "c86b4eaf-7cb2-46c2-bfc8-022b4e63133b",
   "metadata": {},
   "source": [
    "### Q2 (b). Association between smoking status and ACEs\n",
    "\n",
    "*Does the proportion of respondents who reported experiencing adverse childhood conditions vary by smoking status?*\n",
    "\n",
    "Following the example above for computing the proportion of respondents reporting ACEs by general health rating, calculate the proportion of respondents reporting ACEs by smoking status (be sure to arrange the rows in appropriate order of smoking status)."
   ]
  },
  {
   "cell_type": "code",
   "execution_count": null,
   "id": "e13d6145-10e2-45a7-a315-f9985e24b107",
   "metadata": {},
   "outputs": [],
   "source": [
    "# proportions grouped by smoking status\n",
    "ace_smoking = data.drop(\n",
    "    columns = 'depression'\n",
    ").groupby(\n",
    "    'smoking'\n",
    ").mean().loc[list(smoke_codes.values()), :]\n",
    "\n",
    "# print\n",
    "ace_smoking"
   ]
  },
  {
   "cell_type": "markdown",
   "id": "38142864-5bea-40c3-b8eb-8d64e522d9c3",
   "metadata": {},
   "source": [
    "### Q2 (c). Association between depression and ACEs\n",
    "\n",
    "*Does the proportion of respondents who reported experiencing adverse childhood conditions vary by depression?*\n",
    "\n",
    "Calculate the proportion of respondents reporting ACEs by whether respondents had been diagnosed with a depressive disorder."
   ]
  },
  {
   "cell_type": "code",
   "execution_count": null,
   "id": "f1ba2f1a-3d34-4478-8c37-0f5b994d4aa8",
   "metadata": {},
   "outputs": [],
   "source": [
    "# proportions grouped by having experienced depression\n",
    "ace_depr = data.groupby('depression').mean()\n",
    "\n",
    "# print\n",
    "ace_depr"
   ]
  },
  {
   "cell_type": "markdown",
   "id": "8ae5c5a8-edc9-4f31-ad58-3d8d0d277cec",
   "metadata": {},
   "source": [
    "### Q2 (d). Exploring subgroupings\n",
    "\n",
    "*Does the apparent association between general health and ACEs persist after accounting for sex?*\n",
    "\n",
    "Repeat the calculation of the proportion of respondents reporting ACEs by general health rating, but also group by sex. "
   ]
  },
  {
   "cell_type": "code",
   "execution_count": null,
   "id": "a4bfb98a-13ee-4c29-b0a2-58c89ff35bd2",
   "metadata": {},
   "outputs": [],
   "source": [
    "# group by general health and sex\n",
    "ace_health_sex = data.drop(\n",
    "    columns = 'depression'\n",
    ").groupby(\n",
    "    ['general_health', 'sex']\n",
    ").mean().loc[list(health_codes.values()), :]\n",
    "\n",
    "# pivot table for better display\n",
    "ace_health_sex.reset_index(\n",
    ").pivot(index = 'sex', columns = 'general_health', values = 'adverse_conditions'\n",
    "       ).loc[:,list(health_codes.values())]"
   ]
  },
  {
   "cell_type": "markdown",
   "id": "c1eb7dc2-4c70-4d76-93f6-531b60ff2442",
   "metadata": {},
   "source": [
    "The table in the last question is a little tricky to read. This information would be better displayed in a plot. The example below generates a bar chart showing the summaries you calculated in Q2(d), with the proportion on the y axis, the health rating on the x axis, and separate bars for the two sexes."
   ]
  },
  {
   "cell_type": "code",
   "execution_count": null,
   "id": "b9693b5a-5cbb-4a4b-9ec7-3420cecdf909",
   "metadata": {},
   "outputs": [],
   "source": [
    "# coerce indices to columns for plotting\n",
    "plot_df = ace_health_sex.reset_index()\n",
    "\n",
    "# specify order of general health categories\n",
    "genhealth_order = pd.CategoricalDtype(list(health_codes.values()), ordered = True)\n",
    "plot_df['general_health'] = plot_df.general_health.astype(genhealth_order)\n",
    "\n",
    "# plot\n",
    "alt.Chart(plot_df).mark_bar().encode(\n",
    "    x = alt.X('general_health', \n",
    "              sort = ['general_health'],\n",
    "              title = 'Self-rated general health'),\n",
    "    y = alt.Y('adverse_conditions',\n",
    "              title = 'Prop. of respondents reporting ACEs'),\n",
    "    color = 'sex',\n",
    "    column = 'sex'\n",
    ").properties(\n",
    "    width = 200, \n",
    "    height = 200\n",
    ")"
   ]
  },
  {
   "cell_type": "markdown",
   "id": "5f9cdbd7-ee6e-4cec-a842-96a4178a50de",
   "metadata": {
    "tags": []
   },
   "source": [
    "### Q2 (e). Visualization\n",
    "\n",
    "Use the example above to plot the proportion of respondents reporting ACEs \n",
    "against smoking status for men and women.\n",
    "\n",
    "*Hint*: you only need to modify the example by substituting smoking status for general health."
   ]
  },
  {
   "cell_type": "code",
   "execution_count": null,
   "id": "5f12cbd4-4337-4d96-9fb5-d14431d05d2d",
   "metadata": {},
   "outputs": [],
   "source": [
    "ace_smoking2 = data.drop(\n",
    "    columns = 'depression'\n",
    ").groupby(\n",
    "    ['smoking','sex']\n",
    ").mean().loc[list(smoke_codes.values()), :]\n",
    "\n",
    "# plot codes go here\n",
    "plot_df = ace_smoking2.reset_index()\n",
    "\n",
    "# specify order of smoking categories\n",
    "smoking_order = pd.CategoricalDtype(list(smoke_codes.values()), ordered = True)\n",
    "plot_df['smoking'] = plot_df.smoking.astype(smoking_order)\n",
    "\n",
    "# plot\n",
    "alt.Chart(plot_df).mark_bar().encode(\n",
    "    x = alt.X('smoking', \n",
    "              sort = ['smoking'],\n",
    "              title = 'Self-reported smoking status'),\n",
    "    y = alt.Y('adverse_conditions',\n",
    "              title = 'Prop. of respondents reporting ACEs'),\n",
    "    color = 'sex',\n",
    "    column = 'sex'\n",
    ").properties(\n",
    "    width = 200, \n",
    "    height = 200\n",
    ")"
   ]
  },
  {
   "cell_type": "markdown",
   "id": "81814c94-c526-4815-8b43-b4fe8632cf52",
   "metadata": {},
   "source": [
    "## 3. Communicating results\n",
    "\n",
    "Here you'll be asked to reflect briefly on your findings."
   ]
  },
  {
   "cell_type": "markdown",
   "id": "e4a56c58-c6be-4753-8c7e-6dce8823b824",
   "metadata": {},
   "source": [
    "### Q3 (a). Summary\n",
    "\n",
    "*Is there an observed association between reporting ACEs and general health, smoking status, and depression among survey respondents who answered the ACE questions?*\n",
    "\n",
    "Write a two to three sentence answer to the above question summarizing your findings. State an answer to the question in your first sentence, and then in your second/third sentences describe exactly what you observed in the foregoing descriptive analysis of the BRFSS data. Be precise, but also concise. There is no need to describe any of the data manipulations, survey design, or the like."
   ]
  },
  {
   "cell_type": "markdown",
   "id": "c4840e2c-c491-4760-873f-61c68fce5428",
   "metadata": {},
   "source": [
    "**Answer**\n",
    "\n",
    "From the graph showing the proportion of respondents reporting ACEs and their general health, we can see that there is an overall negative relationship. With only 'Fair' or 'Poor' status, there is a higher amount of people reporting ACEs. Inversely, we see a positive relationship in the next graph with smoking status and ACEs. Those that were heavy smokers tended to also have a high proportion of ACE and those that were not smokers usually had a less proportion of people reporting ACEs. When it comes to depression, those that experienced depression also usually had exposure to ACEs. "
   ]
  },
  {
   "cell_type": "markdown",
   "id": "9560769d-9853-4248-976d-1440402a25cf",
   "metadata": {},
   "source": [
    "### Q3 (b). Generalization\n",
    "\n",
    "Recall from the overview documentation all the care that the BRFSS dedicates to collecting a representative sample of the U.S. adult population with phone numbers. Do you think that your findings provide evidence of an association among the general public (not just the individuals survey)? Why or why not? Answer in two sentences."
   ]
  },
  {
   "cell_type": "markdown",
   "id": "f57f33b7-e26f-4a6e-8471-c896a8ac5eae",
   "metadata": {},
   "source": [
    "**Answer**\n",
    "\n",
    "Yes, I believe that my findings provide evidence of an association that can be extrapolated out to the general public. There is a lot of data that was gathered from the study and so our sample is probably a pretty good indicator of what the rest of the data would show up to be. There was not much missing data and since most people have a phone and most likely answered the survey questions truthfully, there was probably not much bias introduced and leaves us with a good set of data to be applicable to the general populous. It is also a good sampling design which ensures that the statistical properties of the sample can be expected to match those of the general public. "
   ]
  },
  {
   "cell_type": "markdown",
   "id": "738cbea0-f5fd-4cbe-803f-217c137086e2",
   "metadata": {},
   "source": [
    "### Q3 (c). Bias\n",
    "\n",
    "What is a potential source of bias in the survey results, and how might this affect the proportions you've calculated?\n",
    "\n",
    "Answer in one or two sentences."
   ]
  },
  {
   "cell_type": "markdown",
   "id": "160df7b5-633b-4f50-991c-5247addbe9e9",
   "metadata": {},
   "source": [
    "**Answer**\n",
    "\n",
    "A potential source of bias in the survey results could be people who decide to lie on the surveys, since they are all self reported. The study also does not account for people who do not have access to a phone, or those that have a phone but decided to just not take the survey and answer the questions. This could also introduce bias in to the study because if they do not have access to a phone in the first place, there might be other things that are going on with their health that we would not be able to know about and collect for the study. "
   ]
  },
  {
   "cell_type": "markdown",
   "id": "f8d6d896-6b12-44b3-9470-1b8d5b98a9f9",
   "metadata": {},
   "source": [
    "### Comment\n",
    "\n",
    "Notice that the language 'association' is non-causual: we don't say that ACEs cause (or don't cause) poorer health outcomes. This is intentional, because the BRFSS data are what are known as 'observational' data, *i.e.* not originating from a controlled experiment. There could be unobserved factors that explain the association. \n",
    "\n",
    "To take a simple example, dog owners live longer, but the reason is simply that dog owners walk more -- so it's the exercise, not the dogs, that cause an increase in longevity. An observational study that doesn't measure exercise would show a positive association between dog ownership and lifespan, but it's a non-causal relationship.\n",
    "\n",
    "So there could easily be unobserved factors that account for the observed association in the BRFSS data. We guard against over-interpreting the results by using causally-neutral language."
   ]
  },
  {
   "cell_type": "markdown",
   "id": "62416bba-5756-4674-98dd-9d706e169f13",
   "metadata": {},
   "source": [
    "## Submission\n",
    "\n",
    "1. Save file to confirm all changes are on disk\n",
    "2. Run *Kernel > Restart & Run All* to execute all code from top to bottom\n",
    "3. Save file again to write any new output to disk\n",
    "4. Select *File > Download as > Notebook*\n",
    "5. Submit your Notebook to Gradescope"
   ]
  }
 ],
 "metadata": {
  "kernelspec": {
   "display_name": "Python 3 (ipykernel)",
   "language": "python",
   "name": "python3"
  },
  "language_info": {
   "codemirror_mode": {
    "name": "ipython",
    "version": 3
   },
   "file_extension": ".py",
   "mimetype": "text/x-python",
   "name": "python",
   "nbconvert_exporter": "python",
   "pygments_lexer": "ipython3",
   "version": "3.10.8"
  },
  "toc-showcode": false,
  "toc-showtags": false
 },
 "nbformat": 4,
 "nbformat_minor": 5
}
